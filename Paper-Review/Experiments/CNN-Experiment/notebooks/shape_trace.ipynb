{
 "cells": [
  {
   "cell_type": "code",
   "id": "initial_id",
   "metadata": {
    "collapsed": true,
    "ExecuteTime": {
     "end_time": "2025-05-04T01:42:22.199091Z",
     "start_time": "2025-05-04T01:42:22.152310Z"
    }
   },
   "source": [
    "import torch\n",
    "import torch.nn as nn\n",
    "import torch.nn.functional as F"
   ],
   "outputs": [],
   "execution_count": 2
  },
  {
   "metadata": {
    "ExecuteTime": {
     "end_time": "2025-05-04T01:47:38.882567Z",
     "start_time": "2025-05-04T01:47:38.869737Z"
    }
   },
   "cell_type": "code",
   "source": [
    "class ShapeTracerCNN(nn.Module):\n",
    "    def __init__(self):\n",
    "        super(ShapeTracerCNN, self).__init__()\n",
    "        self.conv1 = nn.Conv2d(1, 16, kernel_size=3, padding=1)\n",
    "        self.pool = nn.MaxPool2d(2, 2)\n",
    "        self.conv2 = nn.Conv2d(16, 32, 3, padding=1)\n",
    "        self.fc1 = nn.Linear(32 * 7 * 7, 128)\n",
    "        self.fc2 = nn.Linear(128, 10)\n",
    "\n",
    "    def forward(self, x):\n",
    "            print(\"Input:\", x.shape)\n",
    "            x = self.pool(F.relu(self.conv1(x)))\n",
    "            print(\"After conv1 + pool:\", x.shape)\n",
    "            x = self.pool(F.relu(self.conv2(x)))\n",
    "            print(\"After conv2 + pool:\", x.shape)\n",
    "            x = x.view(-1, 32 * 7 * 7)\n",
    "            print(\"After flatten:\", x.shape)\n",
    "            x = F.relu(self.fc1(x))\n",
    "            x = self.fc2(x)\n",
    "            return x"
   ],
   "id": "58eb89a9566ee7ac",
   "outputs": [],
   "execution_count": 6
  },
  {
   "metadata": {
    "ExecuteTime": {
     "end_time": "2025-05-04T01:47:41.483950Z",
     "start_time": "2025-05-04T01:47:41.450005Z"
    }
   },
   "cell_type": "code",
   "source": [
    "model = ShapeTracerCNN()\n",
    "\n",
    "dummy_input = torch.randn(1, 1, 28, 28)\n",
    "output = model(dummy_input)"
   ],
   "id": "8d3f9b0292bd292a",
   "outputs": [
    {
     "name": "stdout",
     "output_type": "stream",
     "text": [
      "Input: torch.Size([1, 1, 28, 28])\n",
      "After conv1 + pool: torch.Size([1, 16, 14, 14])\n",
      "After conv2 + pool: torch.Size([1, 32, 7, 7])\n",
      "After flatten: torch.Size([1, 1568])\n"
     ]
    }
   ],
   "execution_count": 7
  },
  {
   "metadata": {
    "ExecuteTime": {
     "end_time": "2025-05-04T01:48:06.382543Z",
     "start_time": "2025-05-04T01:48:04.672123Z"
    }
   },
   "cell_type": "code",
   "source": "pip install torchsummary",
   "id": "7fae0c8f230a132d",
   "outputs": [
    {
     "name": "stdout",
     "output_type": "stream",
     "text": [
      "Collecting torchsummary\r\n",
      "  Downloading torchsummary-1.5.1-py3-none-any.whl.metadata (296 bytes)\r\n",
      "Downloading torchsummary-1.5.1-py3-none-any.whl (2.8 kB)\r\n",
      "Installing collected packages: torchsummary\r\n",
      "Successfully installed torchsummary-1.5.1\r\n",
      "Note: you may need to restart the kernel to use updated packages.\n"
     ]
    }
   ],
   "execution_count": 8
  },
  {
   "metadata": {
    "ExecuteTime": {
     "end_time": "2025-05-04T01:48:23.859048Z",
     "start_time": "2025-05-04T01:48:23.829749Z"
    }
   },
   "cell_type": "code",
   "source": [
    "from torchsummary import summary\n",
    "summary(model, input_size=(1, 28, 28))"
   ],
   "id": "560b013712948c66",
   "outputs": [
    {
     "name": "stdout",
     "output_type": "stream",
     "text": [
      "Input: torch.Size([2, 1, 28, 28])\n",
      "After conv1 + pool: torch.Size([2, 16, 14, 14])\n",
      "After conv2 + pool: torch.Size([2, 32, 7, 7])\n",
      "After flatten: torch.Size([2, 1568])\n",
      "----------------------------------------------------------------\n",
      "        Layer (type)               Output Shape         Param #\n",
      "================================================================\n",
      "            Conv2d-1           [-1, 16, 28, 28]             160\n",
      "         MaxPool2d-2           [-1, 16, 14, 14]               0\n",
      "            Conv2d-3           [-1, 32, 14, 14]           4,640\n",
      "         MaxPool2d-4             [-1, 32, 7, 7]               0\n",
      "            Linear-5                  [-1, 128]         200,832\n",
      "            Linear-6                   [-1, 10]           1,290\n",
      "================================================================\n",
      "Total params: 206,922\n",
      "Trainable params: 206,922\n",
      "Non-trainable params: 0\n",
      "----------------------------------------------------------------\n",
      "Input size (MB): 0.00\n",
      "Forward/backward pass size (MB): 0.18\n",
      "Params size (MB): 0.79\n",
      "Estimated Total Size (MB): 0.97\n",
      "----------------------------------------------------------------\n"
     ]
    }
   ],
   "execution_count": 9
  }
 ],
 "metadata": {
  "kernelspec": {
   "display_name": "Python [conda env:base]",
   "language": "python",
   "name": "conda-base-py"
  },
  "language_info": {
   "codemirror_mode": {
    "name": "ipython",
    "version": 2
   },
   "file_extension": ".py",
   "mimetype": "text/x-python",
   "name": "python",
   "nbconvert_exporter": "python",
   "pygments_lexer": "ipython2",
   "version": "2.7.6"
  }
 },
 "nbformat": 4,
 "nbformat_minor": 5
}
